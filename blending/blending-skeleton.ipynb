{
 "cells": [
  {
   "cell_type": "markdown",
   "id": "working-genome",
   "metadata": {},
   "source": [
    "# WaffleHacks 2022 - Computational Imaging Workshop - Image Blending\n",
    "#### Instructed by Kevin Gauld, images for explanatory part largely sourced from [here](https://becominghuman.ai/image-blending-using-laplacian-pyramids-2f8e9982077f)\n",
    "\n",
    "#### Also for another good presentation with more applications see [here](http://graphics.cs.cmu.edu/courses/15-463/2005_fall/www/Lectures/Pyramids.pdf)\n",
    "\n",
    "\n",
    "## What is image blending?\n",
    "\n",
    "<div>\n",
    "    <img src=\"https://cdn.discordapp.com/attachments/730567294102667324/987841504045322270/unknown.png\" width=\"500\">\n",
    "    <img src=\"https://cdn.discordapp.com/attachments/730567294102667324/987841643224903750/unknown.png\" width=\"500\">\n",
    "\n",
    "</div>\n",
    "\n",
    "\n",
    "## Gaussian Pyramids\n",
    "\n",
    "\n",
    "<div>\n",
    "    <img src=\"https://cdn.discordapp.com/attachments/730567294102667324/987842317769666700/unknown.png\" width=\"500\">\n",
    "</div>\n",
    "\n",
    "### Effective Downsampling\n",
    "\n",
    "<div>\n",
    "    <img src=\"https://cdn.discordapp.com/attachments/730567294102667324/987843367176138884/unknown.png\" width=\"500\">\n",
    "    <img src=\"https://cdn.discordapp.com/attachments/730567294102667324/987839037836496956/unknown.png\" width=\"500\">\n",
    "    <img src=\"https://cdn.discordapp.com/attachments/730567294102667324/987842748071673876/unknown.png\" width=\"500\">\n",
    "\n",
    "</div>\n",
    "\n",
    "### Results for apple and orange\n",
    "\n",
    "\n",
    "<div>\n",
    "    <img src=\"https://cdn.discordapp.com/attachments/730567294102667324/987844582421184523/unknown.png\" width=\"800\">\n",
    "\n",
    "</div>\n",
    "\n",
    "\n",
    "## Laplacian Pyramid\n",
    "\n",
    "<div>\n",
    "    <img src=\"https://cdn.discordapp.com/attachments/730567294102667324/987845301681401927/unknown.png\" width=\"800\">\n",
    "    <img src=\"https://cdn.discordapp.com/attachments/730567294102667324/987845385827516416/unknown.png\" width=\"600\">\n",
    "    <img src=\"https://cdn.discordapp.com/attachments/730567294102667324/987845617512501248/unknown.png\" width=\"1000\">\n",
    "</div>\n",
    "\n",
    "\n",
    "## Blending!!\n",
    "\n",
    "<div>\n",
    "    <img src=\"https://cdn.discordapp.com/attachments/730567294102667324/987846820803805254/unknown.png\" width=\"800\">\n",
    "    <img src=\"https://cdn.discordapp.com/attachments/730567294102667324/987846884930494504/unknown.png\" width=\"1000\">\n",
    "    <img src=\"https://cdn.discordapp.com/attachments/730567294102667324/987847038467194920/unknown.png\" width=\"1000\">\n",
    "    <img src=\"https://cdn.discordapp.com/attachments/730567294102667324/987847154657808414/unknown.png\" width=\"1000\">\n",
    "</div>\n"
   ]
  },
  {
   "cell_type": "markdown",
   "id": "alpha-british",
   "metadata": {},
   "source": [
    "# Implement blending!!"
   ]
  },
  {
   "cell_type": "code",
   "execution_count": null,
   "id": "billion-child",
   "metadata": {},
   "outputs": [],
   "source": [
    "import numpy as np\n",
    "import cv2\n",
    "import matplotlib.pyplot as plt\n",
    "from PIL import Image"
   ]
  },
  {
   "cell_type": "code",
   "execution_count": null,
   "id": "infrared-relaxation",
   "metadata": {},
   "outputs": [],
   "source": [
    "def resize(image: np.ndarray, size) -> np.ndarray:\n",
    "    '''\n",
    "    Convert an image to the specified size (height, width) using bicubic\n",
    "    interpolation.\n",
    "    '''\n",
    "    return _resize_channel(image, size) if image.ndim == 2 else np.dstack([\n",
    "        _resize_channel(chan, size) for chan in image.transpose(2, 0, 1)\n",
    "    ])\n",
    "\n",
    "def _resize_channel(chan: np.ndarray, size) -> np.ndarray:\n",
    "    '''\n",
    "    Resize a single image channel using bicubic interpolation\n",
    "    '''\n",
    "    return np.asarray(Image.fromarray(chan).resize(size[::-1], Image.Resampling.BICUBIC))\n",
    "\n",
    "def norm_img(img) -> np.ndarray:\n",
    "    '''\n",
    "    Normalize a given image (scale from [min, max] to [0,1])\n",
    "    '''\n",
    "    return (img - np.min(img))/np.ptp(img)\n",
    "\n",
    "def pyrUp(img, shape) -> np.ndarray:\n",
    "    '''\n",
    "    Return an upscaled version of the given image with a desired output shape\n",
    "    '''\n",
    "    pyrup = cv2.pyrUp(img)\n",
    "    return resize(img,shape)\n",
    "\n",
    "def show_image(img, ticks=False):\n",
    "    '''\n",
    "    Display an image with or without axis ticks, and rescale if necessary\n",
    "    '''\n",
    "    if not ticks:\n",
    "        plt.xticks([])\n",
    "        plt.yticks([])\n",
    "\n",
    "    imtoshow = img\n",
    "    if np.min(img) < 0 or np.max(img) > 1:\n",
    "        imtoshow = norm_img(img)\n",
    "\n",
    "    plt.imshow(imtoshow)\n",
    "\n",
    "def show_pyramid(pyr, ticks=True):\n",
    "    '''\n",
    "    Display a given image pyramid\n",
    "    '''\n",
    "    plt.figure(figsize=(15,15))\n",
    "    for i in range(len(pyr)):\n",
    "        plt.subplot(1, len(pyr), i+1)\n",
    "        plt.grid(False)\n",
    "        show_image(pyr[i], ticks=ticks)\n",
    "\n",
    "    plt.show()"
   ]
  },
  {
   "cell_type": "markdown",
   "id": "about-federation",
   "metadata": {},
   "source": [
    "# Read in Images"
   ]
  },
  {
   "cell_type": "code",
   "execution_count": null,
   "id": "whole-input",
   "metadata": {},
   "outputs": [],
   "source": [
    "A = cv2.imread('A.png')[:,:,::-1]/255.0\n",
    "B = cv2.imread('B.png')[:,:,::-1]/255.0\n",
    "mask = cv2.imread('M.png')[:,:,::-1]/255.0\n",
    "\n",
    "show_pyramid([A,B,mask], ticks=False)"
   ]
  },
  {
   "cell_type": "markdown",
   "id": "designed-strain",
   "metadata": {},
   "source": [
    "# Compute the Gaussian Pyramid"
   ]
  },
  {
   "cell_type": "code",
   "execution_count": null,
   "id": "following-divorce",
   "metadata": {},
   "outputs": [],
   "source": [
    "def gaussian_pyramid(img, level):\n",
    "    '''\n",
    "    Returns a Gaussian pyramid for 'img' of a given length 'level'\n",
    "    '''\n",
    "    # TODO: Compute Gaussian pyramid "
   ]
  },
  {
   "cell_type": "code",
   "execution_count": null,
   "id": "difficult-binary",
   "metadata": {},
   "outputs": [],
   "source": [
    "A_pyr = gaussian_pyramid(A, 6)\n",
    "show_pyramid(A_pyr, ticks=True)"
   ]
  },
  {
   "cell_type": "markdown",
   "id": "finnish-vegetarian",
   "metadata": {},
   "source": [
    "# Compute the Laplacian Pyramid"
   ]
  },
  {
   "cell_type": "code",
   "execution_count": null,
   "id": "optimum-stand",
   "metadata": {},
   "outputs": [],
   "source": [
    "def laplacian_pyramid(img, level):\n",
    "    '''\n",
    "    Returns a Laplacian pyramid for 'img' of a given length 'level'\n",
    "    '''\n",
    "    gauss_pyr = gaussian_pyramid(img, level)\n",
    "    \n",
    "    # TODO: Compute Laplacian Pyramid\n",
    "    \n",
    "    return l_pyr"
   ]
  },
  {
   "cell_type": "code",
   "execution_count": null,
   "id": "adverse-acceptance",
   "metadata": {},
   "outputs": [],
   "source": [
    "A_pyr = laplacian_pyramid(A, 6)\n",
    "show_pyramid(A_pyr, ticks=True)"
   ]
  },
  {
   "cell_type": "markdown",
   "id": "victorian-courtesy",
   "metadata": {},
   "source": [
    "# Rebuild an image from the Laplacian Pyramid"
   ]
  },
  {
   "cell_type": "code",
   "execution_count": null,
   "id": "supreme-sierra",
   "metadata": {},
   "outputs": [],
   "source": [
    "def rebuild_pyramid(pyr):\n",
    "    '''\n",
    "    Rebuilds an image from its laplacian pyramid\n",
    "    '''\n",
    "    res = np.zeros(pyr[-1].shape)\n",
    "    for k in range(len(pyr), 0, -1):\n",
    "        res = pyrUp(res,pyr[k-1].shape[:2]) + pyr[k-1]\n",
    "    return res"
   ]
  },
  {
   "cell_type": "code",
   "execution_count": null,
   "id": "bored-consortium",
   "metadata": {},
   "outputs": [],
   "source": [
    "img = rebuild_pyramid(A_pyr)\n",
    "show_image(img)"
   ]
  },
  {
   "cell_type": "markdown",
   "id": "connected-information",
   "metadata": {},
   "source": [
    "# Create a blended pyramid"
   ]
  },
  {
   "cell_type": "code",
   "execution_count": null,
   "id": "expired-barcelona",
   "metadata": {},
   "outputs": [],
   "source": [
    "def blend_pyramid(imgA, imgB, mask, level):\n",
    "    '''\n",
    "    Creates a blended laplacian pyramid\n",
    "    '''\n",
    "    lpyr_A = laplacian_pyramid(imgA,level)\n",
    "    lpyr_B = laplacian_pyramid(imgB,level)\n",
    "    gpyr_M = gaussian_pyramid(mask,level)\n",
    "    new_pyr = [None]*level\n",
    "    \n",
    "    # TODO: Blend together the pyramids\n",
    "    \n",
    "    return new_pyr"
   ]
  },
  {
   "cell_type": "code",
   "execution_count": null,
   "id": "protective-ecology",
   "metadata": {},
   "outputs": [],
   "source": [
    "blend_pyr = blend_pyramid(A, B, mask, 6)\n",
    "show_pyramid(blend_pyr, ticks=True)"
   ]
  },
  {
   "cell_type": "markdown",
   "id": "stainless-valuation",
   "metadata": {},
   "source": [
    "# Blend two images using the blend pyramid"
   ]
  },
  {
   "cell_type": "code",
   "execution_count": null,
   "id": "retained-typing",
   "metadata": {},
   "outputs": [],
   "source": [
    "def blend(imgA, imgB, mask, level):\n",
    "    '''\n",
    "    Returns a blended image\n",
    "    '''\n",
    "    # TODO: Compute the blended image"
   ]
  },
  {
   "cell_type": "code",
   "execution_count": null,
   "id": "statewide-worse",
   "metadata": {},
   "outputs": [],
   "source": [
    "img = norm_img(blend(A,B,mask,6))\n",
    "show_image(img)"
   ]
  },
  {
   "cell_type": "markdown",
   "id": "sublime-network",
   "metadata": {},
   "source": [
    "# Custom mask"
   ]
  },
  {
   "cell_type": "code",
   "execution_count": null,
   "id": "possible-lancaster",
   "metadata": {},
   "outputs": [],
   "source": [
    "newmask = np.zeros(mask.shape)\n",
    "\n",
    "\n",
    "# TODO: Create a new mask\n",
    "\n",
    "show_image(newmask)"
   ]
  },
  {
   "cell_type": "code",
   "execution_count": null,
   "id": "level-procedure",
   "metadata": {},
   "outputs": [],
   "source": [
    "img = norm_img(blend(A,B,newmask,6))\n",
    "show_image(img)"
   ]
  }
 ],
 "metadata": {
  "kernelspec": {
   "display_name": "Python 3",
   "language": "python",
   "name": "python3"
  },
  "language_info": {
   "codemirror_mode": {
    "name": "ipython",
    "version": 3
   },
   "file_extension": ".py",
   "mimetype": "text/x-python",
   "name": "python",
   "nbconvert_exporter": "python",
   "pygments_lexer": "ipython3",
   "version": "3.8.8"
  }
 },
 "nbformat": 4,
 "nbformat_minor": 5
}
