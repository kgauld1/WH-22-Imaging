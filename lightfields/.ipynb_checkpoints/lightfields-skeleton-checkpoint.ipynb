{
 "cells": [
  {
   "cell_type": "markdown",
   "id": "balanced-people",
   "metadata": {},
   "source": [
    "# WaffleHacks 2022 - Computational Imaging Workshop - Light Fields\n",
    "#### Instructed by Kevin Gauld, images for explanatory part largely sourced from [here](http://graphics.cs.cmu.edu/courses/15-463/2019_fall/lectures/lecture10.pdf)\n",
    "\n",
    "#### Check out the Stanford Light Field Archive [here](http://lightfield.stanford.edu/lfs.html)\n",
    "\n",
    "\n",
    "## Focal Depths -- Pinhole vs Lens\n",
    "\n",
    "<div>\n",
    "    <img src=\"https://cdn.discordapp.com/attachments/730567294102667324/987864862644400148/unknown.png\" width=\"800\">\n",
    "</div>\n",
    "\n",
    "## Focal Stacks\n",
    "\n",
    "\n",
    "<div>\n",
    "    <img src=\"https://cdn.discordapp.com/attachments/730567294102667324/987865301230161920/unknown.png\" width=\"500\">\n",
    "    <img src=\"https://cdn.discordapp.com/attachments/730567294102667324/987865625818955856/unknown.png\" width=\"1000\">\n",
    "    <img src=\"https://cdn.discordapp.com/attachments/730567294102667324/987866194696630302/unknown.png\" width=\"1000\">\n",
    "    <img src=\"https://cdn.discordapp.com/attachments/730567294102667324/987867583082561546/unknown.png\" width=\"1000\">\n",
    "    <img src=\"https://cdn.discordapp.com/attachments/730567294102667324/987867884090982410/unknown.png\" width=\"1000\">\n",
    "</div>\n",
    "\n",
    "\n",
    "## Plenoptic Imaging\n",
    "\n",
    "\n",
    "<div>\n",
    "    <img src=\"https://cdn.discordapp.com/attachments/730567294102667324/987868233765883944/unknown.png\" width=\"500\">\n",
    "    <img src=\"https://cdn.discordapp.com/attachments/730567294102667324/987868422664749056/unknown.png\" width=\"500\">\n",
    "    <img src=\"https://cdn.discordapp.com/attachments/730567294102667324/987868585001107536/unknown.png\" width=\"500\">\n",
    "    <img src=\"https://cdn.discordapp.com/attachments/730567294102667324/987870957685313566/unknown.png\" width=\"500\">\n",
    "    <img src=\"https://cdn.discordapp.com/attachments/730567294102667324/987871093920509952/unknown.png\" width=\"1000\">\n",
    "    <img src=\"https://cdn.discordapp.com/attachments/730567294102667324/987873194738339920/unknown.png\" width=\"1000\">\n",
    "\n",
    "</div>"
   ]
  },
  {
   "cell_type": "code",
   "execution_count": null,
   "id": "precious-weekly",
   "metadata": {},
   "outputs": [],
   "source": [
    "import numpy as np\n",
    "import cv2\n",
    "import matplotlib.pyplot as plt\n",
    "from PIL import Image\n",
    "import scipy.ndimage as ndimage\n",
    "import math"
   ]
  },
  {
   "cell_type": "code",
   "execution_count": null,
   "id": "functioning-transformation",
   "metadata": {},
   "outputs": [],
   "source": [
    "lightfield = cv2.imread('light-field.png')[:,:,::-1]/255.0"
   ]
  },
  {
   "cell_type": "code",
   "execution_count": null,
   "id": "subtle-polyester",
   "metadata": {},
   "outputs": [],
   "source": [
    "def norm_img(img) -> np.ndarray:\n",
    "    '''\n",
    "    Normalize a given image (scale from [min, max] to [0,1])\n",
    "    '''\n",
    "    return (img - np.min(img))/np.ptp(img)\n",
    "\n",
    "def grayscale(img) -> np.ndarray:\n",
    "    '''\n",
    "    Convert an image to grayscale\n",
    "    '''\n",
    "    return 0.3*img[:,:,0] + 0.6*img[:,:,1] + 0.1*img[:,:,2]\n",
    "\n",
    "def show_image(img, ticks=False):\n",
    "    '''\n",
    "    Display an image with or without axis ticks, and rescale if necessary\n",
    "    '''\n",
    "    if not ticks:\n",
    "        plt.xticks([])\n",
    "        plt.yticks([])\n",
    "    \n",
    "    imtoshow = img\n",
    "    if np.min(img) < 0 or np.max(img) > 1:\n",
    "        imtoshow = norm_img(img)\n",
    "    plt.imshow(imtoshow)\n",
    "    \n",
    "def show_focal_stack(focalstack, depths, ticks=False):\n",
    "    '''\n",
    "    Display all images in a focal stack\n",
    "    '''\n",
    "    rows = math.ceil(len(focalstack)/5.0)\n",
    "    plt.figure(figsize=(15, 3*rows))\n",
    "    \n",
    "    for i in range(len(focalstack)):\n",
    "        plt.subplot(rows,5,i+1)\n",
    "        show_image(focalstack[i])\n",
    "        plt.xlabel('depth: ' + str(depths[i]))"
   ]
  },
  {
   "cell_type": "markdown",
   "id": "functioning-compilation",
   "metadata": {},
   "source": [
    "# Light Field"
   ]
  },
  {
   "cell_type": "code",
   "execution_count": null,
   "id": "placed-fourth",
   "metadata": {},
   "outputs": [],
   "source": [
    "plt.figure(figsize=(15,15))\n",
    "show_image(lightfield)"
   ]
  },
  {
   "cell_type": "markdown",
   "id": "optimum-blind",
   "metadata": {},
   "source": [
    "# Show Sub-Aperture Views"
   ]
  },
  {
   "cell_type": "code",
   "execution_count": null,
   "id": "soviet-samba",
   "metadata": {},
   "outputs": [],
   "source": [
    "def load_light_field(lightfield, stride=16):\n",
    "    '''\n",
    "    Return a u-v indexed array of the light field views\n",
    "    '''\n",
    "    \n",
    "    # TODO: Compute the subapertures"
   ]
  },
  {
   "cell_type": "code",
   "execution_count": null,
   "id": "permanent-pillow",
   "metadata": {},
   "outputs": [],
   "source": [
    "field = load_light_field(lightfield)\n",
    "sub_aps = np.hstack(np.hstack(field))\n",
    "cv2.imwrite('sub-apertures.png', sub_aps*255)"
   ]
  },
  {
   "cell_type": "code",
   "execution_count": null,
   "id": "earned-landscape",
   "metadata": {},
   "outputs": [],
   "source": [
    "plt.figure(figsize=(15,15))\n",
    "show_image(sub_aps)"
   ]
  },
  {
   "cell_type": "markdown",
   "id": "historic-optimization",
   "metadata": {},
   "source": [
    "## Individual sub-apertures"
   ]
  },
  {
   "cell_type": "code",
   "execution_count": null,
   "id": "african-proceeding",
   "metadata": {},
   "outputs": [],
   "source": [
    "plt.figure(figsize=(15,15))\n",
    "show_image(field[0][0])"
   ]
  },
  {
   "cell_type": "markdown",
   "id": "parental-review",
   "metadata": {},
   "source": [
    "# Refocusing - Building a focal stack"
   ]
  },
  {
   "cell_type": "code",
   "execution_count": null,
   "id": "selected-invite",
   "metadata": {},
   "outputs": [],
   "source": [
    "def focus_to_depth(field, depth):\n",
    "    '''\n",
    "    Returns the focal image at a given depth\n",
    "    '''\n",
    "    s_uv = field.shape[:2]\n",
    "    s_img = field.shape[2:]\n",
    "    stack = np.zeros(s_img)\n",
    "    \n",
    "    # TODO: Focus to the given depth\n",
    "    \n",
    "    return stack / (s_uv[0]*s_uv[1])"
   ]
  },
  {
   "cell_type": "code",
   "execution_count": null,
   "id": "comparative-customs",
   "metadata": {},
   "outputs": [],
   "source": [
    "fs = focus_to_depth(field, 0.2)\n",
    "plt.figure(figsize=(15,15))\n",
    "show_image(fs)"
   ]
  },
  {
   "cell_type": "code",
   "execution_count": null,
   "id": "furnished-jimmy",
   "metadata": {},
   "outputs": [],
   "source": [
    "def build_focal_stack(field, depths):\n",
    "    '''\n",
    "    Returns a focal stack for the field at the list of given depths\n",
    "    '''\n",
    "    focalstack = []\n",
    "    \n",
    "    # TODO: Add all of the focal depths to the focal stack\n",
    "    \n",
    "    return focalstack"
   ]
  },
  {
   "cell_type": "code",
   "execution_count": null,
   "id": "specified-vampire",
   "metadata": {},
   "outputs": [],
   "source": [
    "depths = np.linspace(-2, 1, 11)\n",
    "depths = np.around(depths, decimals=1)\n",
    "focalstack = build_focal_stack(field, depths)"
   ]
  },
  {
   "cell_type": "code",
   "execution_count": null,
   "id": "likely-railway",
   "metadata": {},
   "outputs": [],
   "source": [
    "show_focal_stack(focalstack, depths)"
   ]
  },
  {
   "cell_type": "code",
   "execution_count": null,
   "id": "bridal-momentum",
   "metadata": {},
   "outputs": [],
   "source": [
    "plt.figure(figsize=(15,15))\n",
    "k = 9\n",
    "show_image(focalstack[k])\n",
    "plt.xlabel('depth: '+ str(depths[k]));"
   ]
  },
  {
   "cell_type": "markdown",
   "id": "exclusive-rider",
   "metadata": {},
   "source": [
    "# Refocusing - Creating an All-In-Focus Image"
   ]
  },
  {
   "cell_type": "code",
   "execution_count": null,
   "id": "smart-speed",
   "metadata": {},
   "outputs": [],
   "source": [
    "def refocus(focalstack, sig1, sig2):\n",
    "    '''\n",
    "    Returns an all in focus image\n",
    "    '''\n",
    "    \n",
    "    # TODO: Compute the all in focus image"
   ]
  },
  {
   "cell_type": "code",
   "execution_count": null,
   "id": "severe-simpson",
   "metadata": {},
   "outputs": [],
   "source": [
    "allinfocus = refocus(focalstack, 2, 3)\n",
    "plt.figure(figsize=(15,15))\n",
    "show_image(allinfocus)"
   ]
  },
  {
   "cell_type": "markdown",
   "id": "compatible-diabetes",
   "metadata": {},
   "source": [
    "# Depth map from all in focus image"
   ]
  },
  {
   "cell_type": "code",
   "execution_count": null,
   "id": "frozen-disco",
   "metadata": {},
   "outputs": [],
   "source": [
    "def depth(focalstack, sig1, sig2):\n",
    "    '''\n",
    "    Returns the depth map for the corresponding all in focus image\n",
    "    '''\n",
    "    \n",
    "    # TODO: Compute the depth map"
   ]
  },
  {
   "cell_type": "code",
   "execution_count": null,
   "id": "square-resistance",
   "metadata": {},
   "outputs": [],
   "source": [
    "depthimg = depth(focalstack, 2, 3)\n",
    "plt.figure(figsize=(15,15))\n",
    "show_image(depthimg)"
   ]
  }
 ],
 "metadata": {
  "kernelspec": {
   "display_name": "Python 3",
   "language": "python",
   "name": "python3"
  },
  "language_info": {
   "codemirror_mode": {
    "name": "ipython",
    "version": 3
   },
   "file_extension": ".py",
   "mimetype": "text/x-python",
   "name": "python",
   "nbconvert_exporter": "python",
   "pygments_lexer": "ipython3",
   "version": "3.8.8"
  }
 },
 "nbformat": 4,
 "nbformat_minor": 5
}
